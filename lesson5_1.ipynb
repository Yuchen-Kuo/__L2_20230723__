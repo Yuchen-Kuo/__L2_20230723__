{
 "cells": [
  {
   "cell_type": "code",
   "execution_count": 1,
   "metadata": {},
   "outputs": [
    {
     "name": "stdout",
     "output_type": "stream",
     "text": [
      "輸入的格式有問題\n"
     ]
    }
   ],
   "source": [
    "try:\n",
    "    score= int(input(\"請輸入學生\\\n",
    "                分數(最高300分)\"))\n",
    "    print(f'分數是{score}')\n",
    "except:\n",
    "    print(\"輸入的格式有問題\")"
   ]
  },
  {
   "cell_type": "code",
   "execution_count": 9,
   "metadata": {},
   "outputs": [
    {
     "name": "stdout",
     "output_type": "stream",
     "text": [
      "第4層\n",
      "第3層\n",
      "第2層\n",
      "第1層\n",
      "level is :E\n"
     ]
    }
   ],
   "source": [
    "score= int(input(\"請輸入學生分數0~100\"))\n",
    "\n",
    "if score >= 90:\n",
    "    grade=\"A\"\n",
    "else:\n",
    "    if score >= 80:\n",
    "        grade=\"B\"\n",
    "    else:\n",
    "        if score>= 70:\n",
    "            grade=\"C\"\n",
    "        else:\n",
    "            if score >=60:\n",
    "                grade=\"D\"\n",
    "            else:\n",
    "                grade=\"E\"\n",
    "                print(\"第4層\")\n",
    "            print(\"第3層\")\n",
    "        print(\"第2層\")\n",
    "    print(\"第1層\")\n",
    "            \n",
    "print (f'level is :{grade}')\n"
   ]
  },
  {
   "cell_type": "code",
   "execution_count": 11,
   "metadata": {},
   "outputs": [
    {
     "name": "stdout",
     "output_type": "stream",
     "text": [
      "學生等級是:A\n"
     ]
    }
   ],
   "source": [
    "score= int(input('請輸入學生分數0~100'))\n",
    "\n",
    "if score >= 90:\n",
    "    grade =\"A\"\n",
    "elif score >=80:\n",
    "    grade =\"B\"\n",
    "elif score >=70:\n",
    "    grade =\"C\"\n",
    "elif score >=60:\n",
    "    grade =\"D\"\n",
    "else:\n",
    "    grade=\"E\"\n",
    "print(f'學生等級是:{grade}')\n"
   ]
  },
  {
   "cell_type": "code",
   "execution_count": 16,
   "metadata": {},
   "outputs": [
    {
     "name": "stdout",
     "output_type": "stream",
     "text": [
      "root=1.7320508075688772\n"
     ]
    }
   ],
   "source": [
    "x= int(input('請輸入x的整數:'))\n",
    "y= int(input('請輸入y的整數(y不可以是0):'))\n",
    "root = 0\n",
    "if x>=0:\n",
    "    root = x**(1/y)\n",
    "elif x%2==0:\n",
    "    root=0\n",
    "else: \n",
    "    root= -(-x) ** (1 / y) \n",
    "print(f'root={root}')"
   ]
  }
 ],
 "metadata": {
  "kernelspec": {
   "display_name": "Python 3",
   "language": "python",
   "name": "python3"
  },
  "language_info": {
   "codemirror_mode": {
    "name": "ipython",
    "version": 3
   },
   "file_extension": ".py",
   "mimetype": "text/x-python",
   "name": "python",
   "nbconvert_exporter": "python",
   "pygments_lexer": "ipython3",
   "version": "3.10.12"
  },
  "orig_nbformat": 4
 },
 "nbformat": 4,
 "nbformat_minor": 2
}
