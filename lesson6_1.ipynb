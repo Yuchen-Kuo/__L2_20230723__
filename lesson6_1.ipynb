{
 "cells": [
  {
   "cell_type": "code",
   "execution_count": 7,
   "metadata": {},
   "outputs": [
    {
     "name": "stdout",
     "output_type": "stream",
     "text": [
      "您的BMI:19.53\n",
      "提示:正常範圍\n"
     ]
    }
   ],
   "source": [
    "height= eval(input(\"請輸入身高,單位為(公分):\"))\n",
    "weight=eval(input(\"請輸入體重,單位為(公斤):\"))\n",
    "\n",
    "bmi= weight / (height/100) ** 2\n",
    "message = \"\"\n",
    "print(f'您的BMI:{bmi:.2f}')\n",
    "      \n",
    "if bmi<18.5:\n",
    "    messsage=\"體重過輕\"\n",
    "elif bmi < 24:\n",
    "    message=\"正常範圍\"\n",
    "elif bmi <27:\n",
    "    message=\" 過重\"\n",
    "elif bmi <30:\n",
    "    message=\"輕度肥胖\"\n",
    "elif bmi <35:\n",
    "    message=\"中度肥胖\"\n",
    "else:\n",
    "    message=\"重度肥胖\"\n",
    "\n",
    "print(f\"提示:{message}\")"
   ]
  },
  {
   "cell_type": "code",
   "execution_count": 4,
   "metadata": {},
   "outputs": [
    {
     "name": "stdout",
     "output_type": "stream",
     "text": [
      "提示:not normal\n"
     ]
    }
   ],
   "source": [
    "height= eval(input(\"請輸入身高,單位為(公分):\"))\n",
    "weight=eval(input(\"請輸入體重,單位為(公斤):\"))\n",
    "\n",
    "bmi= weight / (height/100) ** 2\n",
    "message = \"\"\n",
    "\n",
    "if 18.5<=bmi<24:\n",
    "    message=\"正常\"\n",
    "else:\n",
    "    message=\"not normal\"\n",
    "\n",
    "print(f\"提示:{message}\")"
   ]
  }
 ],
 "metadata": {
  "kernelspec": {
   "display_name": "Python 3",
   "language": "python",
   "name": "python3"
  },
  "language_info": {
   "codemirror_mode": {
    "name": "ipython",
    "version": 3
   },
   "file_extension": ".py",
   "mimetype": "text/x-python",
   "name": "python",
   "nbconvert_exporter": "python",
   "pygments_lexer": "ipython3",
   "version": "3.10.12"
  },
  "orig_nbformat": 4
 },
 "nbformat": 4,
 "nbformat_minor": 2
}
