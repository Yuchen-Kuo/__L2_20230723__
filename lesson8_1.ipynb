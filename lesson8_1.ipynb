{
 "cells": [
  {
   "cell_type": "code",
   "execution_count": 1,
   "metadata": {},
   "outputs": [],
   "source": [
    "#沒有參數,沒有傳出值\n",
    "def func_sum() -> None:\n",
    "    a = 10\n",
    "    b = 20\n",
    "    c = a ** b\n",
    "    print(\"呼叫函式\")"
   ]
  },
  {
   "cell_type": "code",
   "execution_count": 2,
   "metadata": {},
   "outputs": [
    {
     "name": "stdout",
     "output_type": "stream",
     "text": [
      "呼叫函式\n"
     ]
    }
   ],
   "source": [
    "func_sum()"
   ]
  },
  {
   "cell_type": "code",
   "execution_count": 3,
   "metadata": {},
   "outputs": [],
   "source": [
    "def func_sum(a:int|float,b:int|float) -> None:\n",
    "    c = a + b\n",
    "    print(f'{a} + {b} = {c}')"
   ]
  },
  {
   "cell_type": "code",
   "execution_count": 4,
   "metadata": {},
   "outputs": [
    {
     "name": "stdout",
     "output_type": "stream",
     "text": [
      "5 + 10 = 15\n"
     ]
    }
   ],
   "source": [
    "#引數值的呼叫\n",
    "func_sum(5,10)"
   ]
  },
  {
   "cell_type": "code",
   "execution_count": 5,
   "metadata": {},
   "outputs": [
    {
     "name": "stdout",
     "output_type": "stream",
     "text": [
      "5 + 10 = 15\n"
     ]
    }
   ],
   "source": [
    "#引數名稱呼叫\n",
    "func_sum(a=5,b=10)"
   ]
  },
  {
   "cell_type": "code",
   "execution_count": 6,
   "metadata": {},
   "outputs": [
    {
     "name": "stdout",
     "output_type": "stream",
     "text": [
      "5 + 10 = 15\n"
     ]
    }
   ],
   "source": [
    "#引數名稱呼叫 #(可不依順序)\n",
    "func_sum(b=10,a=5)"
   ]
  },
  {
   "cell_type": "code",
   "execution_count": 8,
   "metadata": {},
   "outputs": [
    {
     "name": "stdout",
     "output_type": "stream",
     "text": [
      "43.7 + 31.5 = 75.2\n"
     ]
    }
   ],
   "source": [
    "func_sum(43.7 ,31.5)"
   ]
  },
  {
   "cell_type": "code",
   "execution_count": 9,
   "metadata": {},
   "outputs": [],
   "source": [
    "def func_sum1(a:int|float,b:int|float) -> int | float:\n",
    "    c = a + b\n",
    "    return c"
   ]
  },
  {
   "cell_type": "code",
   "execution_count": 10,
   "metadata": {},
   "outputs": [
    {
     "name": "stdout",
     "output_type": "stream",
     "text": [
      "10 + 25.5 = 35.5\n"
     ]
    }
   ],
   "source": [
    "n = 10\n",
    "m = 25.5\n",
    "sum = func_sum1(n, m)\n",
    "\n",
    "print(f'{n} + {m} = {sum}')"
   ]
  },
  {
   "cell_type": "code",
   "execution_count": 11,
   "metadata": {},
   "outputs": [],
   "source": [
    "def check_prime(start: int, end: int)-> None:\n",
    "    for i in range(start, end+1):\n",
    "        is_prime = True\n",
    "        if i == 1:\n",
    "            continue\n",
    "        for j in range(2,i):\n",
    "            if i % j == 0:\n",
    "                is_prime = False\n",
    "                break\n",
    "        if is_prime:\n",
    "            print(i, end=' ')\n",
    "    return None\n",
    "    print(\"程式結束\") #不會執行"
   ]
  },
  {
   "cell_type": "code",
   "execution_count": 13,
   "metadata": {},
   "outputs": [
    {
     "name": "stdout",
     "output_type": "stream",
     "text": [
      "2 3 5 7 11 13 17 19 23 29 "
     ]
    }
   ],
   "source": [
    "check_prime(1,end=30)"
   ]
  },
  {
   "cell_type": "code",
   "execution_count": 6,
   "metadata": {},
   "outputs": [
    {
     "name": "stdout",
     "output_type": "stream",
     "text": [
      "Hello there!\n",
      "How are you?\n",
      "I'm doing fine.\n"
     ]
    }
   ],
   "source": [
    "#字串\n",
    "print('Hello there!\\nHow are you?\\nI\\'m doing fine.')"
   ]
  },
  {
   "cell_type": "code",
   "execution_count": 7,
   "metadata": {},
   "outputs": [
    {
     "data": {
      "text/plain": [
       "\"Hello there!\\nHow are you?\\nI'm doing fine.\""
      ]
     },
     "metadata": {},
     "output_type": "display_data"
    }
   ],
   "source": [
    "#display Ipython的功能\n",
    "display('Hello there!\\nHow are you?\\nI\\'m doing fine.')"
   ]
  },
  {
   "cell_type": "code",
   "execution_count": 8,
   "metadata": {},
   "outputs": [
    {
     "name": "stdout",
     "output_type": "stream",
     "text": [
      "ffn is a library that contains many useful functions for those who work in quantitative finance.It stands on the shoulders of giants (Pandas, Numpy, Scipy, etc.)and provides a vast array of utilities,from performance measurement and evaluation to graphing and common data transformations.\n"
     ]
    }
   ],
   "source": [
    "#字串換行連結\n",
    "sentence = 'ffn is a library that contains many useful functions for those who work \\\n",
    "in quantitative finance.\\\n",
    "It stands on the shoulders of giants (Pandas, Numpy, Scipy, etc.)\\\n",
    "and provides a vast array of utilities,\\\n",
    "from performance measurement and evaluation to graphing and common data transformations.'\n",
    "print(sentence)"
   ]
  },
  {
   "cell_type": "code",
   "execution_count": 9,
   "metadata": {},
   "outputs": [
    {
     "name": "stdout",
     "output_type": "stream",
     "text": [
      "ffn is a library that contains many useful functions for those who workin quantitative finance.It stands on the shoulders of giants (Pandas, Numpy, Scipy, etc.)and provides a vast array of utilities,from performance measurement and evaluation to graphing and common data transformations.\n"
     ]
    }
   ],
   "source": [
    "sentence = \"\"\n",
    "sentence += 'ffn is a library that contains many useful functions for those who work'\n",
    "sentence += 'in quantitative finance.'\n",
    "sentence += 'It stands on the shoulders of giants (Pandas, Numpy, Scipy, etc.)'\n",
    "sentence += 'and provides a vast array of utilities,'\n",
    "sentence += 'from performance measurement and evaluation to graphing and common data transformations.'\n",
    "print(sentence)"
   ]
  },
  {
   "cell_type": "code",
   "execution_count": 11,
   "metadata": {},
   "outputs": [],
   "source": [
    "sentence_1 = \"Dear Alice\\n\\nEve's cat has been arrested for catnapping, cat burglary, and extortion.\\n\\nSincerely,\\nBob\""
   ]
  },
  {
   "cell_type": "code",
   "execution_count": 12,
   "metadata": {},
   "outputs": [
    {
     "name": "stdout",
     "output_type": "stream",
     "text": [
      "Dear Alice\n",
      "\n",
      "Eve's cat has been arrested for catnapping, cat burglary, and extortion.\n",
      "\n",
      "Sincerely,\n",
      "Bob\n"
     ]
    }
   ],
   "source": [
    "print(sentence_1)"
   ]
  },
  {
   "cell_type": "code",
   "execution_count": 13,
   "metadata": {},
   "outputs": [],
   "source": [
    "#多行文字\n",
    "sentence_2 = '''Dear Alice\n",
    "\n",
    "Eve's cat has been arrested for catnapping, cat burglary, and extortion.\n",
    "\n",
    "Sincerely,\n",
    "Bob'''"
   ]
  },
  {
   "cell_type": "code",
   "execution_count": 14,
   "metadata": {},
   "outputs": [
    {
     "data": {
      "text/plain": [
       "\"Dear Alice\\n\\nEve's cat has been arrested for catnapping, cat burglary, and extortion.\\n\\nSincerely,\\nBob\""
      ]
     },
     "execution_count": 14,
     "metadata": {},
     "output_type": "execute_result"
    }
   ],
   "source": [
    "sentence_2"
   ]
  },
  {
   "cell_type": "code",
   "execution_count": 15,
   "metadata": {},
   "outputs": [
    {
     "name": "stdout",
     "output_type": "stream",
     "text": [
      "Dear Alice\n",
      "\n",
      "Eve's cat has been arrested for catnapping, cat burglary, and extortion.\n",
      "\n",
      "Sincerely,\n",
      "Bob\n"
     ]
    }
   ],
   "source": [
    "print(sentence_2)"
   ]
  }
 ],
 "metadata": {
  "kernelspec": {
   "display_name": "Python 3",
   "language": "python",
   "name": "python3"
  },
  "language_info": {
   "codemirror_mode": {
    "name": "ipython",
    "version": 3
   },
   "file_extension": ".py",
   "mimetype": "text/x-python",
   "name": "python",
   "nbconvert_exporter": "python",
   "pygments_lexer": "ipython3",
   "version": "3.10.12"
  },
  "orig_nbformat": 4
 },
 "nbformat": 4,
 "nbformat_minor": 2
}
