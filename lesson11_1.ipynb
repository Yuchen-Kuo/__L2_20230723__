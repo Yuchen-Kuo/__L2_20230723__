{
 "cells": [
  {
   "cell_type": "code",
   "execution_count": 1,
   "metadata": {},
   "outputs": [
    {
     "name": "stdout",
     "output_type": "stream",
     "text": [
      "[89, 79, 68, 92, 58]\n",
      "[98, 67, 75, 83, 71]\n",
      "[95, 97, 90, 95, 92]\n"
     ]
    }
   ],
   "source": [
    "score1 = [89, 79, 68, 92, 58]\n",
    "score2 = [98, 67, 75, 83, 71]\n",
    "score3 = [95, 97, 90, 95, 92]\n",
    "\n",
    "students = [score1, score2, score3] #建立\n",
    "for student_score in students: #取出第2維的資料\n",
    "    print(student_score)"
   ]
  },
  {
   "cell_type": "code",
   "execution_count": 3,
   "metadata": {},
   "outputs": [
    {
     "data": {
      "text/plain": [
       "[62, 96, 51, 56, 74]"
      ]
     },
     "execution_count": 3,
     "metadata": {},
     "output_type": "execute_result"
    }
   ],
   "source": [
    "import random\n",
    "score = []\n",
    "for _ in range(5):    \n",
    "    score.append(random.randint(50, 100))\n",
    "score"
   ]
  },
  {
   "cell_type": "code",
   "execution_count": 5,
   "metadata": {},
   "outputs": [
    {
     "data": {
      "text/plain": [
       "[65, 61, 69, 73, 70]"
      ]
     },
     "execution_count": 5,
     "metadata": {},
     "output_type": "execute_result"
    }
   ],
   "source": [
    "import random\n",
    "#list comprehension :快速建立list\n",
    "score = [random.randint(50, 100) for _ in range(5)]\n",
    "score"
   ]
  },
  {
   "cell_type": "code",
   "execution_count": 9,
   "metadata": {},
   "outputs": [
    {
     "data": {
      "text/plain": [
       "[[78, 55, 86, 53, 64],\n",
       " [97, 57, 89, 78, 54],\n",
       " [52, 51, 66, 58, 76],\n",
       " [53, 85, 65, 86, 80],\n",
       " [75, 63, 92, 61, 100],\n",
       " [66, 57, 68, 88, 89],\n",
       " [78, 82, 75, 56, 93],\n",
       " [75, 81, 56, 95, 91],\n",
       " [94, 88, 53, 86, 60],\n",
       " [91, 75, 87, 82, 97]]"
      ]
     },
     "execution_count": 9,
     "metadata": {},
     "output_type": "execute_result"
    }
   ],
   "source": [
    "import random\n",
    "\n",
    "student_num = 10\n",
    "students:list[list] = [] #建立第一維list\n",
    "for _ in range(student_num):\n",
    "    one_student = [random.randint(50, 100) for _ in range(5)] #建立第2維list\n",
    "    students.append(one_student)\n",
    "\n",
    "students"
   ]
  },
  {
   "cell_type": "code",
   "execution_count": 15,
   "metadata": {},
   "outputs": [
    {
     "name": "stdout",
     "output_type": "stream",
     "text": [
      "['黃淑芬', '王怡君', '謝貞妃', '張凡成', '李政白']\n"
     ]
    }
   ],
   "source": [
    "def get_all_names() -> list[str]:\n",
    "    with open('names.txt',mode='r',encoding='utf-8') as file:\n",
    "        names:list[str] = []\n",
    "        for line in file:\n",
    "            #names.append(line)\n",
    "            line = line.rstrip('\\n')\n",
    "            names.append(line)\n",
    "        return names\n",
    "\n",
    "def get_randon_names(nums:int) -> list[str]:\n",
    "    names = get_all_names()\n",
    "    random_list = random.choices(names,k=nums)\n",
    "    return random_list\n",
    "\n",
    "names = get_randon_names(nums=5)\n",
    "print(names)"
   ]
  },
  {
   "cell_type": "code",
   "execution_count": 17,
   "metadata": {},
   "outputs": [
    {
     "data": {
      "text/plain": [
       "[['林佳光', 96, 96, 63, 92, 100],\n",
       " ['李美洋', 61, 90, 68, 67, 52],\n",
       " ['陳樂紫', 82, 63, 88, 77, 91],\n",
       " ['姜琬婷', 64, 56, 64, 65, 75],\n",
       " ['林瑞喬', 69, 54, 74, 73, 66],\n",
       " ['簡佳樺', 67, 82, 98, 77, 72],\n",
       " ['劉嘉泰', 93, 79, 99, 93, 86],\n",
       " ['吳明妮', 98, 93, 52, 60, 64],\n",
       " ['柯宜臻', 62, 85, 51, 56, 83],\n",
       " ['郭淑真', 63, 95, 73, 80, 88]]"
      ]
     },
     "execution_count": 17,
     "metadata": {},
     "output_type": "execute_result"
    }
   ],
   "source": [
    "import random\n",
    "\n",
    "student_num = 10\n",
    "students:list[list] = [] #建立第一維list\n",
    "names = get_randon_names(nums=student_num)\n",
    "for i in range(student_num):\n",
    "    one_student = [random.randint(50, 100) for _ in range(5)] #建立第2維list\n",
    "    student_name = names[i]\n",
    "    one_student = [student_name] + one_student\n",
    "    students.append(one_student)\n",
    "\n",
    "students"
   ]
  }
 ],
 "metadata": {
  "kernelspec": {
   "display_name": "Python 3",
   "language": "python",
   "name": "python3"
  },
  "language_info": {
   "codemirror_mode": {
    "name": "ipython",
    "version": 3
   },
   "file_extension": ".py",
   "mimetype": "text/x-python",
   "name": "python",
   "nbconvert_exporter": "python",
   "pygments_lexer": "ipython3",
   "version": "3.10.12"
  },
  "orig_nbformat": 4
 },
 "nbformat": 4,
 "nbformat_minor": 2
}
