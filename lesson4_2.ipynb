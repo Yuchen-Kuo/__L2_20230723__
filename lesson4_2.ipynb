{
 "cells": [
  {
   "cell_type": "code",
   "execution_count": 1,
   "metadata": {},
   "outputs": [
    {
     "data": {
      "text/plain": [
       "True"
      ]
     },
     "execution_count": 1,
     "metadata": {},
     "output_type": "execute_result"
    }
   ],
   "source": [
    "3==3"
   ]
  },
  {
   "cell_type": "code",
   "execution_count": 2,
   "metadata": {},
   "outputs": [
    {
     "data": {
      "text/plain": [
       "False"
      ]
     },
     "execution_count": 2,
     "metadata": {},
     "output_type": "execute_result"
    }
   ],
   "source": [
    "6!=6"
   ]
  },
  {
   "cell_type": "code",
   "execution_count": 17,
   "metadata": {},
   "outputs": [
    {
     "name": "stdout",
     "output_type": "stream",
     "text": [
      "total score is 294.0\n"
     ]
    }
   ],
   "source": [
    "score= int(input('please enter the score'))\n",
    "if score<=300:\n",
    "    is_add=input(\"if the standard is met?(y,n)\")\n",
    "    if(is_add ==\"y\"):\n",
    "        score*=1.05\n",
    "        if score >300:\n",
    "            score=300\n",
    "    print(f\"total score is {score}\")\n",
    "else:\n",
    "    print(f\"bigger than 300, please key-in again\")\n",
    "\n",
    "\n",
    "\n"
   ]
  },
  {
   "cell_type": "code",
   "execution_count": 2,
   "metadata": {},
   "outputs": [
    {
     "name": "stdout",
     "output_type": "stream",
     "text": [
      "the score is 900\n"
     ]
    }
   ],
   "source": [
    "try:\n",
    "    score=int(input(\"please key in your score:\"))\n",
    "    print(f\"the score is {score}\")\n",
    "except:\n",
    "    print(\"wrong input format\")"
   ]
  },
  {
   "cell_type": "code",
   "execution_count": 4,
   "metadata": {},
   "outputs": [
    {
     "name": "stdout",
     "output_type": "stream",
     "text": [
      "不及格\n"
     ]
    }
   ],
   "source": [
    "try:\n",
    "    score=int(input(\"請輸入國文分數:\"))\n",
    "    if score < 60:\n",
    "        print(\"不及格\")\n",
    "    else:\n",
    "        print(\"及格\")\n",
    "except:\n",
    "    print(\"輸入格式有誤\")"
   ]
  },
  {
   "cell_type": "code",
   "execution_count": 6,
   "metadata": {},
   "outputs": [
    {
     "name": "stdout",
     "output_type": "stream",
     "text": [
      "普通\n"
     ]
    }
   ],
   "source": [
    "try:\n",
    "    score=int(input(\"請輸入國文分數:\"))\n",
    "    if score < 60:\n",
    "        print (\"不及格\")\n",
    "    else:\n",
    "        if score >=80:\n",
    "            print(\"優\")\n",
    "        else:\n",
    "            print(\"普通\")\n",
    "except:\n",
    "    print(\"輸入格式有誤\")\n",
    "        "
   ]
  }
 ],
 "metadata": {
  "kernelspec": {
   "display_name": "Python 3",
   "language": "python",
   "name": "python3"
  },
  "language_info": {
   "codemirror_mode": {
    "name": "ipython",
    "version": 3
   },
   "file_extension": ".py",
   "mimetype": "text/x-python",
   "name": "python",
   "nbconvert_exporter": "python",
   "pygments_lexer": "ipython3",
   "version": "3.10.12"
  },
  "orig_nbformat": 4
 },
 "nbformat": 4,
 "nbformat_minor": 2
}
