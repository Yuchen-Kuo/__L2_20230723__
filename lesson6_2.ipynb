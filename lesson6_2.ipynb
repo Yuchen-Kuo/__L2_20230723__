{
 "cells": [
  {
   "cell_type": "code",
   "execution_count": 1,
   "metadata": {},
   "outputs": [
    {
     "name": "stdout",
     "output_type": "stream",
     "text": [
      "0\n",
      "1\n",
      "2\n",
      "3\n",
      "4\n"
     ]
    }
   ],
   "source": [
    "for x in range(5):\n",
    "    print(x)"
   ]
  },
  {
   "cell_type": "code",
   "execution_count": 2,
   "metadata": {},
   "outputs": [
    {
     "name": "stdout",
     "output_type": "stream",
     "text": [
      "15\n",
      "16\n",
      "17\n",
      "18\n",
      "19\n"
     ]
    }
   ],
   "source": [
    "for x in range(15,20):\n",
    "    print(x)"
   ]
  },
  {
   "cell_type": "code",
   "execution_count": 3,
   "metadata": {},
   "outputs": [
    {
     "name": "stdout",
     "output_type": "stream",
     "text": [
      "1\n",
      "3\n",
      "5\n",
      "7\n",
      "9\n"
     ]
    }
   ],
   "source": [
    "for x in range (1,10,2):\n",
    "    print(x)"
   ]
  },
  {
   "cell_type": "code",
   "execution_count": 4,
   "metadata": {},
   "outputs": [
    {
     "name": "stdout",
     "output_type": "stream",
     "text": [
      "#1~100的加總是:5050\n"
     ]
    }
   ],
   "source": [
    "#1~100的加總是多少\n",
    "total=0\n",
    "for x in range(1,101):\n",
    "    total += x\n",
    "print(f'#1~100的加總是:{total}')"
   ]
  },
  {
   "cell_type": "code",
   "execution_count": 5,
   "metadata": {},
   "outputs": [
    {
     "name": "stdout",
     "output_type": "stream",
     "text": [
      "even數總和:2550\n",
      "odd數總和:2500\n"
     ]
    }
   ],
   "source": [
    "##1~100內的偶數加總和奇數加總各是多少?\n",
    "odd_total=0\n",
    "even_total=0\n",
    "for x in range(1,101):\n",
    "    if x%2==0:\n",
    "        even_total += x\n",
    "    else:\n",
    "        odd_total += x\n",
    "\n",
    "print (f'even數總和:{even_total}')\n",
    "print (f'odd數總和:{odd_total}')\n"
   ]
  },
  {
   "cell_type": "code",
   "execution_count": 6,
   "metadata": {},
   "outputs": [
    {
     "ename": "KeyboardInterrupt",
     "evalue": "Interrupted by user",
     "output_type": "error",
     "traceback": [
      "\u001b[0;31m---------------------------------------------------------------------------\u001b[0m",
      "\u001b[0;31mKeyboardInterrupt\u001b[0m                         Traceback (most recent call last)",
      "Cell \u001b[0;32mIn[6], line 1\u001b[0m\n\u001b[0;32m----> 1\u001b[0m start\u001b[39m=\u001b[39m \u001b[39mint\u001b[39m(\u001b[39minput\u001b[39;49m(\u001b[39m'\u001b[39;49m\u001b[39m請輸入起始值\u001b[39;49m\u001b[39m'\u001b[39;49m))\n\u001b[1;32m      2\u001b[0m end\u001b[39m=\u001b[39m \u001b[39mint\u001b[39m(\u001b[39minput\u001b[39m(\u001b[39m'\u001b[39m\u001b[39m請輸入最終值\u001b[39m\u001b[39m'\u001b[39m))\n\u001b[1;32m      3\u001b[0m odd_total\u001b[39m=\u001b[39m\u001b[39m0\u001b[39m\n",
      "File \u001b[0;32m~/.local/lib/python3.10/site-packages/ipykernel/kernelbase.py:1202\u001b[0m, in \u001b[0;36mKernel.raw_input\u001b[0;34m(self, prompt)\u001b[0m\n\u001b[1;32m   1200\u001b[0m     msg \u001b[39m=\u001b[39m \u001b[39m\"\u001b[39m\u001b[39mraw_input was called, but this frontend does not support input requests.\u001b[39m\u001b[39m\"\u001b[39m\n\u001b[1;32m   1201\u001b[0m     \u001b[39mraise\u001b[39;00m StdinNotImplementedError(msg)\n\u001b[0;32m-> 1202\u001b[0m \u001b[39mreturn\u001b[39;00m \u001b[39mself\u001b[39;49m\u001b[39m.\u001b[39;49m_input_request(\n\u001b[1;32m   1203\u001b[0m     \u001b[39mstr\u001b[39;49m(prompt),\n\u001b[1;32m   1204\u001b[0m     \u001b[39mself\u001b[39;49m\u001b[39m.\u001b[39;49m_parent_ident[\u001b[39m\"\u001b[39;49m\u001b[39mshell\u001b[39;49m\u001b[39m\"\u001b[39;49m],\n\u001b[1;32m   1205\u001b[0m     \u001b[39mself\u001b[39;49m\u001b[39m.\u001b[39;49mget_parent(\u001b[39m\"\u001b[39;49m\u001b[39mshell\u001b[39;49m\u001b[39m\"\u001b[39;49m),\n\u001b[1;32m   1206\u001b[0m     password\u001b[39m=\u001b[39;49m\u001b[39mFalse\u001b[39;49;00m,\n\u001b[1;32m   1207\u001b[0m )\n",
      "File \u001b[0;32m~/.local/lib/python3.10/site-packages/ipykernel/kernelbase.py:1245\u001b[0m, in \u001b[0;36mKernel._input_request\u001b[0;34m(self, prompt, ident, parent, password)\u001b[0m\n\u001b[1;32m   1242\u001b[0m \u001b[39mexcept\u001b[39;00m \u001b[39mKeyboardInterrupt\u001b[39;00m:\n\u001b[1;32m   1243\u001b[0m     \u001b[39m# re-raise KeyboardInterrupt, to truncate traceback\u001b[39;00m\n\u001b[1;32m   1244\u001b[0m     msg \u001b[39m=\u001b[39m \u001b[39m\"\u001b[39m\u001b[39mInterrupted by user\u001b[39m\u001b[39m\"\u001b[39m\n\u001b[0;32m-> 1245\u001b[0m     \u001b[39mraise\u001b[39;00m \u001b[39mKeyboardInterrupt\u001b[39;00m(msg) \u001b[39mfrom\u001b[39;00m \u001b[39mNone\u001b[39;00m\n\u001b[1;32m   1246\u001b[0m \u001b[39mexcept\u001b[39;00m \u001b[39mException\u001b[39;00m:\n\u001b[1;32m   1247\u001b[0m     \u001b[39mself\u001b[39m\u001b[39m.\u001b[39mlog\u001b[39m.\u001b[39mwarning(\u001b[39m\"\u001b[39m\u001b[39mInvalid Message:\u001b[39m\u001b[39m\"\u001b[39m, exc_info\u001b[39m=\u001b[39m\u001b[39mTrue\u001b[39;00m)\n",
      "\u001b[0;31mKeyboardInterrupt\u001b[0m: Interrupted by user"
     ]
    }
   ],
   "source": [
    "start= int(input('請輸入起始值'))\n",
    "end= int(input('請輸入最終值'))\n",
    "odd_total=0\n",
    "even_total=0\n",
    "\n",
    "for x in range(start,end+1):\n",
    "    if x%2 ==0:\n",
    "        even_total += x\n",
    "    else:\n",
    "        odd_total += x\n",
    "print(f'{start}~{end}偶數總合是:{even_total:,}')\n",
    "print(f'{start}~{end}奇數總合是:{odd_total:,}')"
   ]
  },
  {
   "cell_type": "code",
   "execution_count": null,
   "metadata": {},
   "outputs": [
    {
     "name": "stdout",
     "output_type": "stream",
     "text": [
      "1-2-3-4-5-6.\n"
     ]
    }
   ],
   "source": [
    "print(1,2,3,4,5,6,sep='-',end='.\\n')"
   ]
  },
  {
   "cell_type": "code",
   "execution_count": null,
   "metadata": {},
   "outputs": [
    {
     "name": "stdout",
     "output_type": "stream",
     "text": [
      "i=1\n",
      "j=1 j=2 j=3 j=4 j=5 j=6 j=7 j=8 j=9 \n",
      "i=2\n",
      "j=1 j=2 j=3 j=4 j=5 j=6 j=7 j=8 j=9 \n",
      "i=3\n",
      "j=1 j=2 j=3 j=4 j=5 j=6 j=7 j=8 j=9 \n",
      "i=4\n",
      "j=1 j=2 j=3 j=4 j=5 j=6 j=7 j=8 j=9 \n",
      "i=5\n",
      "j=1 j=2 j=3 j=4 j=5 j=6 j=7 j=8 j=9 \n",
      "i=6\n",
      "j=1 j=2 j=3 j=4 j=5 j=6 j=7 j=8 j=9 \n",
      "i=7\n",
      "j=1 j=2 j=3 j=4 j=5 j=6 j=7 j=8 j=9 \n",
      "i=8\n",
      "j=1 j=2 j=3 j=4 j=5 j=6 j=7 j=8 j=9 \n",
      "i=9\n",
      "j=1 j=2 j=3 j=4 j=5 j=6 j=7 j=8 j=9 \n"
     ]
    }
   ],
   "source": [
    "for i in range (1,10):\n",
    "    print(f'i={i}')\n",
    "    for j in range (1,10):\n",
    "        print(f'j={j}',end=\" \")\n",
    "    print()"
   ]
  },
  {
   "cell_type": "code",
   "execution_count": null,
   "metadata": {},
   "outputs": [
    {
     "name": "stdout",
     "output_type": "stream",
     "text": [
      "0\n",
      "1\n",
      "2\n",
      "3\n",
      "4\n"
     ]
    }
   ],
   "source": [
    "#break\n",
    "for i in range(10):\n",
    "    if i==5:\n",
    "        break\n",
    "    print(i)"
   ]
  },
  {
   "cell_type": "code",
   "execution_count": 10,
   "metadata": {},
   "outputs": [
    {
     "name": "stdout",
     "output_type": "stream",
     "text": [
      "1 * 1= 1  1 * 2= 2  1 * 3= 3  1 * 4= 4  1 * 5= 5  1 * 6= 6  1 * 7= 7  1 * 8= 8  1 * 9= 9  \n",
      "2 * 1= 2  2 * 2= 4  2 * 3= 6  2 * 4= 8  2 * 5=10  2 * 6=12  2 * 7=14  2 * 8=16  2 * 9=18  \n",
      "3 * 1= 3  3 * 2= 6  3 * 3= 9  3 * 4=12  3 * 5=15  3 * 6=18  3 * 7=21  3 * 8=24  3 * 9=27  \n",
      "4 * 1= 4  4 * 2= 8  4 * 3=12  4 * 4=16  4 * 5=20  4 * 6=24  4 * 7=28  4 * 8=32  4 * 9=36  \n",
      "5 * 1= 5  5 * 2=10  5 * 3=15  5 * 4=20  5 * 5=25  5 * 6=30  5 * 7=35  5 * 8=40  5 * 9=45  \n",
      "6 * 1= 6  6 * 2=12  6 * 3=18  6 * 4=24  6 * 5=30  6 * 6=36  6 * 7=42  6 * 8=48  6 * 9=54  \n",
      "7 * 1= 7  7 * 2=14  7 * 3=21  7 * 4=28  7 * 5=35  7 * 6=42  7 * 7=49  7 * 8=56  7 * 9=63  \n",
      "8 * 1= 8  8 * 2=16  8 * 3=24  8 * 4=32  8 * 5=40  8 * 6=48  8 * 7=56  8 * 8=64  8 * 9=72  \n",
      "9 * 1= 9  9 * 2=18  9 * 3=27  9 * 4=36  9 * 5=45  9 * 6=54  9 * 7=63  9 * 8=72  9 * 9=81  \n"
     ]
    }
   ],
   "source": [
    "# 99 乘法\n",
    "for i in range(1,10):\n",
    "    for j in range(1,10):\n",
    "        print (f\"{i:<2d}*{j:2d}={i*j:2d}\",end=\"  \")\n",
    "    print()"
   ]
  }
 ],
 "metadata": {
  "kernelspec": {
   "display_name": "Python 3",
   "language": "python",
   "name": "python3"
  },
  "language_info": {
   "codemirror_mode": {
    "name": "ipython",
    "version": 3
   },
   "file_extension": ".py",
   "mimetype": "text/x-python",
   "name": "python",
   "nbconvert_exporter": "python",
   "pygments_lexer": "ipython3",
   "version": "3.10.12"
  },
  "orig_nbformat": 4
 },
 "nbformat": 4,
 "nbformat_minor": 2
}
