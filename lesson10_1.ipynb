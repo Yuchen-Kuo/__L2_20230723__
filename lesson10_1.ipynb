{
 "cells": [
  {
   "cell_type": "code",
   "execution_count": 1,
   "metadata": {},
   "outputs": [],
   "source": [
    "#字串正規則表達式\n",
    "import re\n",
    "\n",
    "def isEmail(text:str) -> bool:\n",
    "    email_regex = re.compile(r'^\\w+([-+.]\\w+)*@\\w+([-.]\\w+)*\\.\\w+([-.]\\w+)*$')\n",
    "    if email_regex.match(text) is None:\n",
    "        return False\n",
    "    else:\n",
    "        return True"
   ]
  },
  {
   "cell_type": "code",
   "execution_count": 3,
   "metadata": {},
   "outputs": [
    {
     "name": "stdout",
     "output_type": "stream",
     "text": [
      "格式正確,email:sannmiek@gmail.com\n"
     ]
    }
   ],
   "source": [
    "# 檢查email輸入格式\n",
    "email_add = input(\"請輸入email:\")\n",
    "if isEmail(text=email_add):\n",
    "    print(f\"格式正確,email:{email_add}\")\n",
    "else:\n",
    "    print(f\"email格式錯誤\")"
   ]
  }
 ],
 "metadata": {
  "kernelspec": {
   "display_name": "Python 3",
   "language": "python",
   "name": "python3"
  },
  "language_info": {
   "codemirror_mode": {
    "name": "ipython",
    "version": 3
   },
   "file_extension": ".py",
   "mimetype": "text/x-python",
   "name": "python",
   "nbconvert_exporter": "python",
   "pygments_lexer": "ipython3",
   "version": "3.10.12"
  },
  "orig_nbformat": 4
 },
 "nbformat": 4,
 "nbformat_minor": 2
}
