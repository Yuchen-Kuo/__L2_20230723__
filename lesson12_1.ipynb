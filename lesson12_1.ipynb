{
 "cells": [
  {
   "cell_type": "code",
   "execution_count": 2,
   "metadata": {},
   "outputs": [
    {
     "data": {
      "text/plain": [
       "[['楊少亮', 68, 68, 81, 58, 60],\n",
       " ['張慧君', 89, 96, 84, 60, 77],\n",
       " ['陳美惠', 86, 90, 80, 72, 86],\n",
       " ['張牧聿', 66, 68, 94, 91, 95],\n",
       " ['陳信宏', 66, 76, 78, 74, 66],\n",
       " ['杜儀鳳', 57, 80, 85, 53, 68],\n",
       " ['林佳蓉', 54, 54, 80, 76, 73],\n",
       " ['黃政甫', 74, 63, 80, 74, 76],\n",
       " ['龐皓芳', 66, 57, 82, 53, 58],\n",
       " ['王怡君', 86, 60, 94, 55, 67],\n",
       " ['李慶亮', 54, 100, 92, 98, 74],\n",
       " ['張俊傑', 67, 72, 74, 71, 89],\n",
       " ['黃彥孝', 93, 66, 59, 77, 70],\n",
       " ['戴萱能', 73, 74, 95, 84, 73],\n",
       " ['杜儀鳳', 68, 54, 71, 72, 67],\n",
       " ['郎慧萍', 96, 69, 77, 60, 84],\n",
       " ['周怡啟', 90, 67, 92, 98, 55],\n",
       " ['賴心怡', 63, 99, 86, 92, 68],\n",
       " ['金宜芳', 82, 55, 70, 63, 87],\n",
       " ['劉萬季', 66, 80, 63, 51, 75],\n",
       " ['游淑惠', 50, 99, 64, 65, 94],\n",
       " ['沈心利', 56, 98, 91, 75, 72],\n",
       " ['張韋成', 79, 71, 54, 87, 95],\n",
       " ['溫重意', 84, 68, 66, 55, 52],\n",
       " ['林義皓', 57, 98, 71, 90, 55],\n",
       " ['龐皓芳', 89, 65, 85, 71, 74],\n",
       " ['謝水儒', 70, 67, 77, 95, 54],\n",
       " ['王坤安', 95, 84, 53, 80, 51],\n",
       " ['胡姿婷', 67, 74, 79, 92, 98],\n",
       " ['陳逸凡', 51, 72, 54, 85, 93]]"
      ]
     },
     "execution_count": 2,
     "metadata": {},
     "output_type": "execute_result"
    }
   ],
   "source": [
    "import os\n",
    "import lesson11_student\n",
    "\n",
    "file_name = input(\"請輸入要存檔的檔案名稱:\")\n",
    "root = os.path.abspath(path=\"./\")\n",
    "filePath = os.path.join(root,'csv_data',f'{file_name}.csv')\n",
    "\n",
    "students = lesson11_student.get_students(student_num=30)\n",
    "students"
   ]
  }
 ],
 "metadata": {
  "kernelspec": {
   "display_name": "Python 3",
   "language": "python",
   "name": "python3"
  },
  "language_info": {
   "codemirror_mode": {
    "name": "ipython",
    "version": 3
   },
   "file_extension": ".py",
   "mimetype": "text/x-python",
   "name": "python",
   "nbconvert_exporter": "python",
   "pygments_lexer": "ipython3",
   "version": "3.10.12"
  },
  "orig_nbformat": 4
 },
 "nbformat": 4,
 "nbformat_minor": 2
}
